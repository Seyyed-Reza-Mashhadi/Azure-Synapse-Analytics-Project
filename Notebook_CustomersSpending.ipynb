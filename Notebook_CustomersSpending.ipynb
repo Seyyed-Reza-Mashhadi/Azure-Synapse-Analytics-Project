{
  "cells": [
    {
      "cell_type": "code",
      "source": [
        "from pyspark.sql import functions as F\r\n",
        "import matplotlib.pyplot as plt\r\n",
        "import numpy as np"
      ],
      "outputs": [
        {
          "output_type": "display_data",
          "data": {
            "application/vnd.livy.statement-meta+json": {
              "spark_pool": "ApacheSparkPool",
              "statement_id": 77,
              "statement_ids": [
                77
              ],
              "state": "finished",
              "livy_statement_state": "available",
              "spark_jobs": null,
              "session_id": "1",
              "normalized_state": "finished",
              "queued_time": "2025-09-02T14:47:30.7253928Z",
              "session_start_time": null,
              "execution_start_time": "2025-09-02T14:47:30.7265833Z",
              "execution_finish_time": "2025-09-02T14:47:30.9937208Z",
              "parent_msg_id": "8d1452e6-5f6b-4ce9-9b94-44b9dda1b64d"
            },
            "text/plain": "StatementMeta(ApacheSparkPool, 1, 77, Finished, Available, Finished)"
          },
          "metadata": {}
        }
      ],
      "execution_count": 83,
      "metadata": {
        "microsoft": {}
      }
    },
    {
      "cell_type": "code",
      "source": [
        "# Read the data (FactSales)\r\n",
        "sales_df = spark.read.parquet('abfss://processeddata@adlsgrocery.dfs.core.windows.net/FactSales.parquet').select(\r\n",
        "    'CustomerID', 'TotalPrice')\r\n",
        "display(sales_df.limit(5))"
      ],
      "outputs": [
        {
          "output_type": "display_data",
          "data": {
            "application/vnd.livy.statement-meta+json": {
              "spark_pool": "ApacheSparkPool",
              "statement_id": 78,
              "statement_ids": [
                78
              ],
              "state": "finished",
              "livy_statement_state": "available",
              "spark_jobs": null,
              "session_id": "1",
              "normalized_state": "finished",
              "queued_time": "2025-09-02T14:47:30.8756079Z",
              "session_start_time": null,
              "execution_start_time": "2025-09-02T14:47:31.00509Z",
              "execution_finish_time": "2025-09-02T14:47:32.909041Z",
              "parent_msg_id": "cb929f90-527e-4852-b73a-13ed1e7353ab"
            },
            "text/plain": "StatementMeta(ApacheSparkPool, 1, 78, Finished, Available, Finished)"
          },
          "metadata": {}
        },
        {
          "output_type": "display_data",
          "data": {
            "application/vnd.synapse.widget-view+json": {
              "widget_id": "578013e0-ead9-43f2-9c12-bb2da3ad6a86",
              "widget_type": "Synapse.DataFrame"
            },
            "text/plain": "SynapseWidget(Synapse.DataFrame, 578013e0-ead9-43f2-9c12-bb2da3ad6a86)"
          },
          "metadata": {}
        }
      ],
      "execution_count": 84,
      "metadata": {
        "collapsed": false
      }
    },
    {
      "cell_type": "code",
      "source": [
        "# Read the data (DimCustomers)\r\n",
        "customers_df = spark.read.load('abfss://processeddata@adlsgrocery.dfs.core.windows.net/DimCustomers.parquet', format='parquet')\r\n",
        "display(customers_df.limit(5))"
      ],
      "outputs": [
        {
          "output_type": "display_data",
          "data": {
            "application/vnd.livy.statement-meta+json": {
              "spark_pool": "ApacheSparkPool",
              "statement_id": 79,
              "statement_ids": [
                79
              ],
              "state": "finished",
              "livy_statement_state": "available",
              "spark_jobs": null,
              "session_id": "1",
              "normalized_state": "finished",
              "queued_time": "2025-09-02T14:47:31.3278895Z",
              "session_start_time": null,
              "execution_start_time": "2025-09-02T14:47:32.9194011Z",
              "execution_finish_time": "2025-09-02T14:47:34.086998Z",
              "parent_msg_id": "d19cd6d1-0935-477e-9738-182064fb21c5"
            },
            "text/plain": "StatementMeta(ApacheSparkPool, 1, 79, Finished, Available, Finished)"
          },
          "metadata": {}
        },
        {
          "output_type": "display_data",
          "data": {
            "application/vnd.synapse.widget-view+json": {
              "widget_id": "b4da34b9-a93f-4034-bce6-8448b0082623",
              "widget_type": "Synapse.DataFrame"
            },
            "text/plain": "SynapseWidget(Synapse.DataFrame, b4da34b9-a93f-4034-bce6-8448b0082623)"
          },
          "metadata": {}
        }
      ],
      "execution_count": 85,
      "metadata": {
        "collapsed": false
      }
    },
    {
      "cell_type": "code",
      "source": [
        "# Join sales with customers\r\n",
        "# Assuming the common column is 'customer_id'\r\n",
        "joined_df = sales_df.join(customers_df, on='CustomerID', how='inner')\r\n",
        "\r\n",
        "# Aggregate total spending per customer\r\n",
        "agg_df = joined_df.groupBy('FullName').agg(F.sum('TotalPrice').alias('TotalSpent'))\r\n",
        "\r\n",
        "# Collect the data to the driver (as a Pandas DataFrame) for plotting\r\n",
        "pandas_df = agg_df.toPandas()\r\n",
        "pandas_df.head(5)"
      ],
      "outputs": [
        {
          "output_type": "display_data",
          "data": {
            "application/vnd.livy.statement-meta+json": {
              "spark_pool": "ApacheSparkPool",
              "statement_id": 80,
              "statement_ids": [
                80
              ],
              "state": "finished",
              "livy_statement_state": "available",
              "spark_jobs": null,
              "session_id": "1",
              "normalized_state": "finished",
              "queued_time": "2025-09-02T14:47:31.816589Z",
              "session_start_time": null,
              "execution_start_time": "2025-09-02T14:47:34.0973428Z",
              "execution_finish_time": "2025-09-02T14:47:38.1775833Z",
              "parent_msg_id": "ae135274-4113-4cbb-9efa-c922511bc741"
            },
            "text/plain": "StatementMeta(ApacheSparkPool, 1, 80, Finished, Available, Finished)"
          },
          "metadata": {}
        },
        {
          "output_type": "execute_result",
          "execution_count": 161,
          "data": {
            "text/plain": "              FullName   TotalSpent\n0        Pedro B Arias  47588.24960\n1      Kenny C Schmitt  29866.55616\n2    Saul P Harrington  56049.28224\n3         Otis K Burke  41102.03361\n4  Nicolas Y Blackwell  60793.59460",
            "text/html": "<div>\n<style scoped>\n    .dataframe tbody tr th:only-of-type {\n        vertical-align: middle;\n    }\n\n    .dataframe tbody tr th {\n        vertical-align: top;\n    }\n\n    .dataframe thead th {\n        text-align: right;\n    }\n</style>\n<table border=\"1\" class=\"dataframe\">\n  <thead>\n    <tr style=\"text-align: right;\">\n      <th></th>\n      <th>FullName</th>\n      <th>TotalSpent</th>\n    </tr>\n  </thead>\n  <tbody>\n    <tr>\n      <th>0</th>\n      <td>Pedro B Arias</td>\n      <td>47588.24960</td>\n    </tr>\n    <tr>\n      <th>1</th>\n      <td>Kenny C Schmitt</td>\n      <td>29866.55616</td>\n    </tr>\n    <tr>\n      <th>2</th>\n      <td>Saul P Harrington</td>\n      <td>56049.28224</td>\n    </tr>\n    <tr>\n      <th>3</th>\n      <td>Otis K Burke</td>\n      <td>41102.03361</td>\n    </tr>\n    <tr>\n      <th>4</th>\n      <td>Nicolas Y Blackwell</td>\n      <td>60793.59460</td>\n    </tr>\n  </tbody>\n</table>\n</div>"
          },
          "metadata": {}
        }
      ],
      "execution_count": 86,
      "metadata": {}
    },
    {
      "cell_type": "code",
      "source": [
        "# Plot histogram of customer spendings\r\n",
        "\r\n",
        "median_spending = pandas_df['TotalSpent'].median()\r\n",
        "print(f\"Median spending: {median_spending}\")\r\n",
        "xtick_spacing = 25000\r\n",
        "bin_space = 2000\r\n",
        "bin_min, bin_max = 0 , 175000\r\n",
        "nbins = int((bin_max-bin_min)/bin_space)\r\n",
        "print(nbins)\r\n",
        "bins = np.linspace(bin_min,bin_max,nbins)\r\n",
        "plt.figure(figsize=(6,4))\r\n",
        "plt.hist(pandas_df['TotalSpent'], bins=bins, color='tab:olive', edgecolor='None')\r\n",
        "plt.title(\"Total Spending of Customers\")\r\n",
        "plt.xlabel(\"Total Spending ($)\")\r\n",
        "plt.xticks(np.arange(bin_min, bin_max + xtick_spacing, xtick_spacing))\r\n",
        "plt.xlim(bin_min,bin_max)\r\n",
        "plt.ylabel(\"Frequency\")\r\n",
        "plt.axvline(median_spending, color='black', linestyle='dashed', linewidth=2, label=f\"Median: ${median_spending:,.0f}\")\r\n",
        "plt.text(median_spending + 2000, plt.ylim()[1]*0.5, f\"Median = ${median_spending:,.0f}\", color='black', rotation=90, fontsize=9)\r\n",
        "plt.show()"
      ],
      "outputs": [
        {
          "output_type": "display_data",
          "data": {
            "application/vnd.livy.statement-meta+json": {
              "spark_pool": "ApacheSparkPool",
              "statement_id": 81,
              "statement_ids": [
                81
              ],
              "state": "finished",
              "livy_statement_state": "available",
              "spark_jobs": null,
              "session_id": "1",
              "normalized_state": "finished",
              "queued_time": "2025-09-02T14:47:32.0141534Z",
              "session_start_time": null,
              "execution_start_time": "2025-09-02T14:47:38.1885414Z",
              "execution_finish_time": "2025-09-02T14:47:38.8103556Z",
              "parent_msg_id": "15d261b8-2646-4866-98a5-793a2384dd94"
            },
            "text/plain": "StatementMeta(ApacheSparkPool, 1, 81, Finished, Available, Finished)"
          },
          "metadata": {}
        },
        {
          "output_type": "stream",
          "name": "stdout",
          "text": [
            "Median spending: 43040.8264\n87\n"
          ]
        },
        {
          "output_type": "display_data",
          "data": {
            "text/plain": "<Figure size 600x400 with 1 Axes>",
            "image/png": "[encoded data removed]"
          },
          "metadata": {}
        }
      ],
      "execution_count": 87,
      "metadata": {}
    }
  ],
  "metadata": {
    "language_info": {
      "name": "python"
    },
    "kernelspec": {
      "name": "synapse_pyspark",
      "language": "Python",
      "display_name": "Synapse PySpark"
    },
    "kernel_info": {
      "name": "synapse_pyspark"
    },
    "save_output": true,
    "synapse_widget": {
      "version": "0.1",
      "state": {
        "578013e0-ead9-43f2-9c12-bb2da3ad6a86": {
          "type": "Synapse.DataFrame",
          "sync_state": {
            "table": {
              "rows": [
                {
                  "0": "72793",
                  "1": "1528.5177"
                },
                {
                  "0": "71870",
                  "1": "1580.3345"
                },
                {
                  "0": "16888",
                  "1": "305.799"
                },
                {
                  "0": "75766",
                  "1": "1488.152"
                },
                {
                  "0": "93370",
                  "1": "1495.9598400000002"
                }
              ],
              "schema": [
                {
                  "key": "0",
                  "name": "CustomerID",
                  "type": "int"
                },
                {
                  "key": "1",
                  "name": "TotalPrice",
                  "type": "double"
                }
              ],
              "truncated": false
            },
            "isSummary": false,
            "language": "scala",
            "wranglerEntryContext": {
              "dataframeType": "pyspark"
            }
          },
          "persist_state": {
            "view": {
              "type": "details",
              "tableOptions": {},
              "chartOptions": {
                "chartType": "bar",
                "aggregationType": "sum",
                "categoryFieldKeys": [
                  "1"
                ],
                "seriesFieldKeys": [
                  "0"
                ],
                "isStacked": false
              }
            }
          }
        },
        "b4da34b9-a93f-4034-bce6-8448b0082623": {
          "type": "Synapse.DataFrame",
          "sync_state": {
            "table": {
              "rows": [
                {
                  "0": "1",
                  "1": "Stefanie",
                  "2": "Y",
                  "3": "Frye",
                  "4": "97 Oak Avenue",
                  "5": "Stefanie Y Frye",
                  "6": "79",
                  "7": "Oklahoma",
                  "8": "40472",
                  "9": "32",
                  "10": "United States",
                  "11": "AR"
                },
                {
                  "0": "2",
                  "1": "Sandy",
                  "2": "T",
                  "3": "Kirby",
                  "4": "52 White First Freeway",
                  "5": "Sandy T Kirby",
                  "6": "96",
                  "7": "Pittsburgh",
                  "8": "14257",
                  "9": "32",
                  "10": "United States",
                  "11": "AR"
                },
                {
                  "0": "3",
                  "1": "Lee",
                  "2": "T",
                  "3": "Zhang",
                  "4": "921 White Fabien Avenue",
                  "5": "Lee T Zhang",
                  "6": "55",
                  "7": "Houston",
                  "8": "95800",
                  "9": "32",
                  "10": "United States",
                  "11": "AR"
                },
                {
                  "0": "4",
                  "1": "Regina",
                  "2": "S",
                  "3": "Avery",
                  "4": "75 Old Avenue",
                  "5": "Regina S Avery",
                  "6": "40",
                  "7": "Cleveland",
                  "8": "51352",
                  "9": "32",
                  "10": "United States",
                  "11": "AR"
                },
                {
                  "0": "5",
                  "1": "Daniel",
                  "2": "S",
                  "3": "Mccann",
                  "4": "283 South Green Hague Avenue",
                  "5": "Daniel S Mccann",
                  "6": "2",
                  "7": "Buffalo",
                  "8": "17420",
                  "9": "32",
                  "10": "United States",
                  "11": "AR"
                }
              ],
              "schema": [
                {
                  "key": "0",
                  "name": "CustomerID",
                  "type": "int"
                },
                {
                  "key": "1",
                  "name": "FirstName",
                  "type": "string"
                },
                {
                  "key": "2",
                  "name": "MiddleInitial",
                  "type": "string"
                },
                {
                  "key": "3",
                  "name": "LastName",
                  "type": "string"
                },
                {
                  "key": "4",
                  "name": "Address",
                  "type": "string"
                },
                {
                  "key": "5",
                  "name": "FullName",
                  "type": "string"
                },
                {
                  "key": "6",
                  "name": "CityID",
                  "type": "smallint"
                },
                {
                  "key": "7",
                  "name": "CityName",
                  "type": "string"
                },
                {
                  "key": "8",
                  "name": "Zipcode",
                  "type": "int"
                },
                {
                  "key": "9",
                  "name": "CountryID",
                  "type": "int"
                },
                {
                  "key": "10",
                  "name": "CountryName",
                  "type": "string"
                },
                {
                  "key": "11",
                  "name": "CountryCode",
                  "type": "string"
                }
              ],
              "truncated": false
            },
            "isSummary": false,
            "language": "scala",
            "wranglerEntryContext": {
              "dataframeType": "pyspark"
            }
          },
          "persist_state": {
            "view": {
              "type": "details",
              "tableOptions": {},
              "chartOptions": {
                "chartType": "bar",
                "aggregationType": "sum",
                "categoryFieldKeys": [
                  "1"
                ],
                "seriesFieldKeys": [
                  "0"
                ],
                "isStacked": false
              }
            }
          }
        }
      }
    }
  },
  "nbformat": 4,
  "nbformat_minor": 2
}